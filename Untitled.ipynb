{
 "cells": [
  {
   "cell_type": "code",
   "execution_count": 2,
   "id": "63319522-dbd3-4577-9a66-ffcf77a1afa1",
   "metadata": {},
   "outputs": [
    {
     "name": "stdout",
     "output_type": "stream",
     "text": [
      "3\n",
      "10\n",
      "10\n"
     ]
    }
   ],
   "source": [
    "class abc:\n",
    "    var1=10\n",
    "    def display(self,var):\n",
    "        self.var=var\n",
    "        print(var)\n",
    "        print(abc.var1)\n",
    "obj=abc()\n",
    "obj.display(3)\n",
    "print(obj.var1)"
   ]
  },
  {
   "cell_type": "code",
   "execution_count": 7,
   "id": "f515087c-6636-473c-94dc-6310eec95935",
   "metadata": {},
   "outputs": [
    {
     "name": "stdout",
     "output_type": "stream",
     "text": [
      "4\n",
      "9\n"
     ]
    }
   ],
   "source": [
    "class abc:\n",
    "    a=4\n",
    "    def edbhj(self,b):\n",
    "        self.b=b\n",
    "        b+=1\n",
    "        return b\n",
    "obj=abc()\n",
    "print(obj.a)\n",
    "print(obj.edbhj(8))\n",
    "        "
   ]
  },
  {
   "cell_type": "code",
   "execution_count": 5,
   "id": "c7d21299-5637-4b01-8f19-42881fa9468b",
   "metadata": {},
   "outputs": [
    {
     "name": "stdout",
     "output_type": "stream",
     "text": [
      "even\n"
     ]
    }
   ],
   "source": [
    "class evenorodd:\n",
    "    def even(self,var):\n",
    "        self.var=var\n",
    "        if var%2==0:\n",
    "            print(\"even\")\n",
    "        else:\n",
    "            print(\"odd\")\n",
    "obj=evenorodd()\n",
    "obj.even(2)"
   ]
  },
  {
   "cell_type": "code",
   "execution_count": 17,
   "id": "2ad92e2e-1185-4701-99a3-f072623713bd",
   "metadata": {},
   "outputs": [
    {
     "name": "stdout",
     "output_type": "stream",
     "text": [
      "30\n",
      "[10, 20, 30, 11, 50]\n"
     ]
    }
   ],
   "source": [
    "class list1:\n",
    "    def __init__(self,val):\n",
    "        self.val=val\n",
    "    def __getitem__(self,index):\n",
    "        return self.val[index]\n",
    "    def __setitem__(self,index,val1):\n",
    "        self.val[index]=val1\n",
    "obj=list1([10,20,30,40,50])\n",
    "print(obj[2])\n",
    "obj[3]=11\n",
    "print(obj.val)"
   ]
  },
  {
   "cell_type": "code",
   "execution_count": 21,
   "id": "4a288bca-1f20-4781-835c-0ce50a693d52",
   "metadata": {},
   "outputs": [
    {
     "name": "stdout",
     "output_type": "stream",
     "text": [
      "9\n"
     ]
    }
   ],
   "source": [
    "class abc:\n",
    "    def __init__(self,var):\n",
    "        self.var=var\n",
    "    def display(self):\n",
    "        print(self.var)\n",
    "    def add(self):\n",
    "        self.var+=5\n",
    "        self.display()\n",
    "obj=abc(4)\n",
    "obj.add()"
   ]
  },
  {
   "cell_type": "code",
   "execution_count": 22,
   "id": "e1c7add4-b436-4895-a99c-02493ada145f",
   "metadata": {},
   "outputs": [
    {
     "name": "stdout",
     "output_type": "stream",
     "text": [
      "9\n"
     ]
    }
   ],
   "source": [
    "def g(a):\n",
    "    return a**2\n",
    "class abc:\n",
    "    def __init__(self,var):\n",
    "        self.var=var\n",
    "    def display(self):\n",
    "        a=g(self.var)\n",
    "        return a\n",
    "obj=abc(3)\n",
    "print(obj.display())"
   ]
  },
  {
   "cell_type": "code",
   "execution_count": 26,
   "id": "18548702-c17e-4e9c-8ccb-d68e1ac08738",
   "metadata": {},
   "outputs": [
    {
     "name": "stdout",
     "output_type": "stream",
     "text": [
      "176.625\n"
     ]
    }
   ],
   "source": [
    "class abc:\n",
    "    pi=3.14\n",
    "    def __init__(self,var):\n",
    "        self.var=var\n",
    "    def area(self):\n",
    "        area=abc.pi*self.var*self.var\n",
    "        return area\n",
    "obj=abc(7.5)\n",
    "print(obj.area())"
   ]
  },
  {
   "cell_type": "code",
   "execution_count": null,
   "id": "51b72800-2187-46a4-bf25-66d72fdf8e56",
   "metadata": {},
   "outputs": [],
   "source": []
  }
 ],
 "metadata": {
  "kernelspec": {
   "display_name": "Python 3 (ipykernel)",
   "language": "python",
   "name": "python3"
  },
  "language_info": {
   "codemirror_mode": {
    "name": "ipython",
    "version": 3
   },
   "file_extension": ".py",
   "mimetype": "text/x-python",
   "name": "python",
   "nbconvert_exporter": "python",
   "pygments_lexer": "ipython3",
   "version": "3.12.3"
  }
 },
 "nbformat": 4,
 "nbformat_minor": 5
}
