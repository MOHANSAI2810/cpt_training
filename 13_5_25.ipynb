{
 "cells": [
  {
   "cell_type": "code",
   "execution_count": 5,
   "id": "8452a719-5935-4800-a774-742f7c5ada0a",
   "metadata": {},
   "outputs": [
    {
     "name": "stdout",
     "output_type": "stream",
     "text": [
      "15\n"
     ]
    }
   ],
   "source": [
    "def over(*a):\n",
    "    return sum(a)\n",
    "print(over(1,2,3,4,5))"
   ]
  },
  {
   "cell_type": "code",
   "execution_count": 11,
   "id": "9273be2d-5463-4db5-885a-880ca166bb9f",
   "metadata": {},
   "outputs": [
    {
     "name": "stdout",
     "output_type": "stream",
     "text": [
      "None\n",
      "Hi 3\n",
      "2\n",
      "hello\n"
     ]
    }
   ],
   "source": [
    "def func(name=None , age=None):\n",
    "    if name and age:\n",
    "        print(name,age)\n",
    "    elif name: \n",
    "        print(name)\n",
    "    elif age:\n",
    "        print(age)\n",
    "    else:\n",
    "        print(\"None\")\n",
    "func()\n",
    "func(\"Hi\",3)\n",
    "func(2)\n",
    "func(\"hello\")"
   ]
  },
  {
   "cell_type": "code",
   "execution_count": 23,
   "id": "889e6bac-5ed7-4f1c-9ba0-d2ba6f174723",
   "metadata": {},
   "outputs": [
    {
     "name": "stdout",
     "output_type": "stream",
     "text": [
      "False\n",
      "True\n"
     ]
    }
   ],
   "source": [
    "a=2\n",
    "print(isinstance(a,float))\n",
    "print(isinstance(a,int))"
   ]
  },
  {
   "cell_type": "code",
   "execution_count": 37,
   "id": "df568183-7fc5-4289-bec1-760c76a3bd09",
   "metadata": {},
   "outputs": [
    {
     "name": "stdout",
     "output_type": "stream",
     "text": [
      "dog\n",
      "False\n"
     ]
    }
   ],
   "source": [
    "class pet:\n",
    "    name=\"dog\"\n",
    "    def __init__(self):\n",
    "        print(pet.name)\n",
    "class dog(pet):\n",
    "    def __init__(self):\n",
    "        print(pet.name)\n",
    "d=dog()\n",
    "print(isinstance(d,int))"
   ]
  },
  {
   "cell_type": "code",
   "execution_count": 53,
   "id": "3050000d-8bd9-4a17-b0de-806caefb74b0",
   "metadata": {},
   "outputs": [
    {
     "name": "stdout",
     "output_type": "stream",
     "text": [
      "(4, 6)\n"
     ]
    }
   ],
   "source": [
    "class abc:\n",
    "    def __init__(self,x1,x2):\n",
    "        self.x1=x1\n",
    "        self.x2=x2\n",
    "    def __add__(self,o):\n",
    "        return self.x1+o.x1,self.x2+o.x2\n",
    "obj=abc(1,2)\n",
    "obj1=abc(3,4)\n",
    "print(obj+obj1)"
   ]
  },
  {
   "cell_type": "code",
   "execution_count": 79,
   "id": "b241f560-e1ca-409c-89b0-46ded97c8078",
   "metadata": {},
   "outputs": [
    {
     "name": "stdout",
     "output_type": "stream",
     "text": [
      "2\n",
      "[1] [2]\n"
     ]
    }
   ],
   "source": [
    "a=\"1+2j\"\n",
    "r=[]\n",
    "g=[]\n",
    "for i in a:\n",
    "    r.append(int(i))\n",
    "    break\n",
    "for j in range(len(a)-2,0,-1):\n",
    "    print(a[j])\n",
    "    g.append(int(a[j]))\n",
    "    break\n",
    "print(r,g)"
   ]
  },
  {
   "cell_type": "code",
   "execution_count": 95,
   "id": "14eed838-bf9a-4a0d-9aee-3c063d9d73a2",
   "metadata": {},
   "outputs": [
    {
     "name": "stdin",
     "output_type": "stream",
     "text": [
      " 2+4j\n",
      " 1+6j\n"
     ]
    },
    {
     "name": "stdout",
     "output_type": "stream",
     "text": [
      "3+10j\n"
     ]
    }
   ],
   "source": [
    "a=complex(input())\n",
    "b=complex(input())\n",
    "c=a.real+b.real\n",
    "d=a.imag+b.imag\n",
    "print(f\"{int(c)}+{int(d)}j\")"
   ]
  },
  {
   "cell_type": "code",
   "execution_count": 97,
   "id": "02e65437-234c-4203-919d-4e098f7f15b4",
   "metadata": {},
   "outputs": [
    {
     "name": "stdout",
     "output_type": "stream",
     "text": [
      "Result: 4 + 6i\n"
     ]
    }
   ],
   "source": [
    "class Complex:\n",
    "    def __init__(self, r=0, i=0):\n",
    "        self.r = r  # Real part\n",
    "        self.i = i  # Imaginary part\n",
    "\n",
    "    def __add__(self, other):\n",
    "        if isinstance(other, Complex):  # Check if the other object is also a Complex number\n",
    "            return Complex(self.r + other.r, self.i + other.i)\n",
    "        else:\n",
    "            raise TypeError(\"Unsupported operand type(s) for +\")\n",
    "\n",
    "    def __str__(self):\n",
    "        return f\"{self.r} + {self.i}i\"  # Corrected string formatting\n",
    "\n",
    "# Example usage:\n",
    "a = Complex(1, 2)\n",
    "b = Complex(3, 4)\n",
    "\n",
    "print(\"Result:\", a + b)\n"
   ]
  },
  {
   "cell_type": "code",
   "execution_count": 101,
   "id": "dda9627a-d93c-4df7-b5da-c190394d8afa",
   "metadata": {},
   "outputs": [
    {
     "name": "stdout",
     "output_type": "stream",
     "text": [
      "Pet\n",
      "dog\n"
     ]
    }
   ],
   "source": [
    "class pet:\n",
    "    def sound(self):\n",
    "        print(\"Pet\")\n",
    "class dog(pet):\n",
    "    def sound(self):\n",
    "        print(\"dog\")\n",
    "p=pet()\n",
    "p.sound()\n",
    "d=dog()\n",
    "d.sound()"
   ]
  },
  {
   "cell_type": "code",
   "execution_count": 107,
   "id": "2c387c9f-ab2b-4e6a-b225-0367ba36df70",
   "metadata": {},
   "outputs": [
    {
     "name": "stdout",
     "output_type": "stream",
     "text": [
      "Student constructor\n",
      "Person constructor\n"
     ]
    }
   ],
   "source": [
    "class stu:\n",
    "    def __init__(self,name):\n",
    "        self.name=name\n",
    "        print(\"Student constructor\")\n",
    "class person(stu):\n",
    "    def __init__(self,name,grade):\n",
    "        super().__init__(name)\n",
    "        self.grade=grade\n",
    "        print(\"Person constructor\")\n",
    "obj=person(\"asd\",'a')"
   ]
  },
  {
   "cell_type": "code",
   "execution_count": 117,
   "id": "2ea3c2c8-74cc-4e26-8e35-77f7efa901c1",
   "metadata": {},
   "outputs": [
    {
     "name": "stdout",
     "output_type": "stream",
     "text": [
      "Sounds\n",
      "barks........\n",
      "meow.....\n"
     ]
    }
   ],
   "source": [
    "class pet:\n",
    "    def sound(self):\n",
    "        print(\"Sounds\")\n",
    "class dog:\n",
    "    def sound(self):\n",
    "        print(\"barks........\")\n",
    "class cat:\n",
    "    def sound(self):\n",
    "        print(\"meow.....\")\n",
    "d=[pet(),dog(),cat()]\n",
    "for i in d:\n",
    "    i.sound()\n"
   ]
  },
  {
   "cell_type": "code",
   "execution_count": 125,
   "id": "09d68312-e647-4239-b6c2-00e71cbe2555",
   "metadata": {},
   "outputs": [
    {
     "name": "stdout",
     "output_type": "stream",
     "text": [
      "16\n",
      "78.5\n"
     ]
    }
   ],
   "source": [
    "class shape:\n",
    "    def __init__(self,size,radius):\n",
    "        self.size=size\n",
    "        self.radius=radius\n",
    "        self.square()\n",
    "        self.circle()\n",
    "    def square(self):\n",
    "        print(self.size*self.size)\n",
    "    def circle(self):\n",
    "        pi=3.14\n",
    "        print(pi*self.radius**2)\n",
    "d=shape(4,5)"
   ]
  },
  {
   "cell_type": "code",
   "execution_count": 139,
   "id": "0a4172f0-aada-414c-87a6-5ea57295573d",
   "metadata": {},
   "outputs": [
    {
     "name": "stdout",
     "output_type": "stream",
     "text": [
      "Area of square: 16\n",
      "Area of circle: 78.5\n"
     ]
    }
   ],
   "source": [
    "class Shape:\n",
    "    def __init__(self, size=None, radius=None):\n",
    "        self.size = size\n",
    "        self.radius = radius\n",
    "\n",
    "class Square(Shape):\n",
    "    def __init__(self, size):\n",
    "        super().__init__(size)  # Initialize base class\n",
    "        self.size = size\n",
    "\n",
    "    def area(self):\n",
    "        print(\"Area of square:\", self.size ** 2)\n",
    "\n",
    "class Circle(Shape):\n",
    "    def __init__(self, radius):\n",
    "        super().__init__(radius)  # Initialize base class\n",
    "        self.radius = radius\n",
    "\n",
    "    def area(self):\n",
    "        print(\"Area of circle:\", 3.14 * self.radius ** 2)\n",
    "\n",
    "# Create objects\n",
    "s = Square(4)\n",
    "c = Circle(5)\n",
    "\n",
    "# Put both in a list and call area()\n",
    "shapes = [s, c]\n",
    "for shape in shapes:\n",
    "    shape.area()\n"
   ]
  },
  {
   "cell_type": "code",
   "execution_count": null,
   "id": "bbea8d7d-5821-410e-9999-6064d251d578",
   "metadata": {},
   "outputs": [],
   "source": []
  }
 ],
 "metadata": {
  "kernelspec": {
   "display_name": "Python 3 (ipykernel)",
   "language": "python",
   "name": "python3"
  },
  "language_info": {
   "codemirror_mode": {
    "name": "ipython",
    "version": 3
   },
   "file_extension": ".py",
   "mimetype": "text/x-python",
   "name": "python",
   "nbconvert_exporter": "python",
   "pygments_lexer": "ipython3",
   "version": "3.12.7"
  }
 },
 "nbformat": 4,
 "nbformat_minor": 5
}
