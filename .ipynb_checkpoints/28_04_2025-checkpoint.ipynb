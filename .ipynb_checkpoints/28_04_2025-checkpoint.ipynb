{
 "cells": [
  {
   "cell_type": "code",
   "execution_count": null,
   "id": "44bb8511-f8a3-418a-b253-b04bf929f531",
   "metadata": {},
   "outputs": [
    {
     "name": "stdout",
     "output_type": "stream",
     "text": [
      "7\n",
      "11\n"
     ]
    }
   ],
   "source": [
    "#default parameters\n",
    "def a(x,y=2):\n",
    "    print(x+y)\n",
    "a(5)\n",
    "a(3,8)"
   ]
  },
  {
   "cell_type": "code",
   "execution_count": 11,
   "id": "175252f3-318b-4cdb-8e41-7ba99ae6ad3e",
   "metadata": {},
   "outputs": [
    {
     "name": "stdout",
     "output_type": "stream",
     "text": [
      "10\n"
     ]
    }
   ],
   "source": [
    "#var args\n",
    "def num(*a):\n",
    "    return sum(a)\n",
    "print(num(1,2,3,4))"
   ]
  },
  {
   "cell_type": "code",
   "execution_count": 29,
   "id": "54a1fff7-1f91-4077-ad20-1b1462c383ce",
   "metadata": {},
   "outputs": [
    {
     "name": "stdout",
     "output_type": "stream",
     "text": [
      "5\n"
     ]
    }
   ],
   "source": [
    "def modify(x):\n",
    "    x = 10  # This will only change the local copy of x\n",
    "\n",
    "a = 5\n",
    "modify(a)\n",
    "print(a)  # The value of 'a' remains 5, because x was a copy.\n"
   ]
  },
  {
   "cell_type": "code",
   "execution_count": 27,
   "id": "62c44a21-9a4e-4fd8-b163-c66366c712a2",
   "metadata": {},
   "outputs": [
    {
     "name": "stdout",
     "output_type": "stream",
     "text": [
      "name:vijay\n",
      "age:30\n"
     ]
    }
   ],
   "source": [
    "def info(**args):\n",
    "    for key,value in args.items():\n",
    "        print(f\"{key}:{value}\")\n",
    "info(name='vijay',age=30)"
   ]
  },
  {
   "cell_type": "code",
   "execution_count": 31,
   "id": "75a479a5-a3e7-41c1-93ed-8d5e156b4fed",
   "metadata": {},
   "outputs": [
    {
     "name": "stdout",
     "output_type": "stream",
     "text": [
      "256\n",
      "8\n"
     ]
    }
   ],
   "source": [
    "square=lambda a:a**a\n",
    "print(square(4))\n",
    "sumnum=lambda a,b:a+b\n",
    "print(sumnum(3,5))"
   ]
  },
  {
   "cell_type": "code",
   "execution_count": 39,
   "id": "5a9260e9-f94c-4d09-ac92-4c42b4f86c3c",
   "metadata": {},
   "outputs": [
    {
     "name": "stdout",
     "output_type": "stream",
     "text": [
      "1\n",
      "6\n",
      "3.5\n"
     ]
    }
   ],
   "source": [
    "def cal(*args):\n",
    "    print(min(args))\n",
    "    print(max(args))\n",
    "    print(sum(args)/len(args))\n",
    "cal(1,2,3,4,5,6)"
   ]
  },
  {
   "cell_type": "code",
   "execution_count": 65,
   "id": "2ad7d88a-142b-4299-8a22-6de9275de68f",
   "metadata": {},
   "outputs": [
    {
     "name": "stdout",
     "output_type": "stream",
     "text": [
      "1 2 3 4\n"
     ]
    }
   ],
   "source": [
    "l=(1,2,3,4)\n",
    "value=lambda l:(min(l),max(l),sum(l)/len(l))\n",
    "a=\" \".join(map(str,l))\n",
    "print(a)"
   ]
  },
  {
   "cell_type": "code",
   "execution_count": 31,
   "id": "866008de-10db-41c4-8d40-775cf0377768",
   "metadata": {},
   "outputs": [
    {
     "name": "stdout",
     "output_type": "stream",
     "text": [
      "479001600\n"
     ]
    }
   ],
   "source": [
    "#direct method\n",
    "def fact(n):\n",
    "    if n==1 or n==0:\n",
    "        return 1\n",
    "    else:\n",
    "        return n*fact(n-1)\n",
    "print(fact(int(12)))"
   ]
  },
  {
   "cell_type": "code",
   "execution_count": 9,
   "id": "5799e170-e669-45aa-8ae3-68026398261d",
   "metadata": {},
   "outputs": [
    {
     "name": "stdout",
     "output_type": "stream",
     "text": [
      "True\n",
      "False\n",
      "True\n",
      "False\n"
     ]
    }
   ],
   "source": [
    "#indirect method1\n",
    "def even(n):\n",
    "    if n==0:\n",
    "        return True\n",
    "    return odd(n-1)\n",
    "def odd(n):\n",
    "    if n==0:\n",
    "        return False\n",
    "    return even(n-1)\n",
    "print(even(2))\n",
    "print(odd(2))\n",
    "print(odd(3))\n",
    "print(even(5))"
   ]
  },
  {
   "cell_type": "code",
   "execution_count": 7,
   "id": "1b9a7048-00ac-4ffc-8dd3-9b87a5c4c135",
   "metadata": {},
   "outputs": [
    {
     "name": "stdout",
     "output_type": "stream",
     "text": [
      "True\n"
     ]
    }
   ],
   "source": [
    "#indirect method2\n",
    "def is_p(s):\n",
    "    if len(s)<=1:\n",
    "        return True\n",
    "    return is_check(s,0,len(s)-1)\n",
    "def is_check(s,start,end):\n",
    "    if start>=end:\n",
    "        return True\n",
    "    if s[start]!=s[end]:\n",
    "        return False\n",
    "    return is_p(s[start+1:end])\n",
    "print(is_p(\"racecar\"))"
   ]
  },
  {
   "cell_type": "code",
   "execution_count": 11,
   "id": "ffee6545-223e-45a9-9603-ec1e36d041de",
   "metadata": {},
   "outputs": [
    {
     "name": "stdout",
     "output_type": "stream",
     "text": [
      "120\n"
     ]
    }
   ],
   "source": [
    "#tail recursion\n",
    "def ftail(n,acc=1):\n",
    "    if n==0 or n==1:\n",
    "        return acc\n",
    "    return ftail(n-1,n*acc)\n",
    "print(ftail(5))"
   ]
  },
  {
   "cell_type": "code",
   "execution_count": 13,
   "id": "cc122193-a20e-4dfb-a595-49adf201c7cb",
   "metadata": {},
   "outputs": [
    {
     "name": "stdout",
     "output_type": "stream",
     "text": [
      "288\n"
     ]
    }
   ],
   "source": [
    "def super(n):\n",
    "    if n==0 or n==1:\n",
    "        return 1\n",
    "    else:\n",
    "        return fact(n)*super(n-1)\n",
    "def fact(n):\n",
    "    if n==0 or n==1:\n",
    "        return 1\n",
    "    else:\n",
    "        return n*fact(n-1)\n",
    "print(super(4))"
   ]
  },
  {
   "cell_type": "code",
   "execution_count": 19,
   "id": "3a3b0412-2060-48a5-bfcc-d5acf57208c7",
   "metadata": {},
   "outputs": [
    {
     "name": "stdout",
     "output_type": "stream",
     "text": [
      "16\n"
     ]
    }
   ],
   "source": [
    "def power(m,n):\n",
    "    if n==1:\n",
    "        return m\n",
    "    else:\n",
    "        return m**power(m,n-1)\n",
    "print(power(2,3))"
   ]
  },
  {
   "cell_type": "code",
   "execution_count": null,
   "id": "1475e581-9474-40db-8743-184ca8bf8592",
   "metadata": {},
   "outputs": [],
   "source": []
  },
  {
   "cell_type": "code",
   "execution_count": null,
   "id": "16600fd2-7cbd-4152-b701-829a5f6f8936",
   "metadata": {},
   "outputs": [],
   "source": []
  }
 ],
 "metadata": {
  "kernelspec": {
   "display_name": "Python 3 (ipykernel)",
   "language": "python",
   "name": "python3"
  },
  "language_info": {
   "codemirror_mode": {
    "name": "ipython",
    "version": 3
   },
   "file_extension": ".py",
   "mimetype": "text/x-python",
   "name": "python",
   "nbconvert_exporter": "python",
   "pygments_lexer": "ipython3",
   "version": "3.12.7"
  }
 },
 "nbformat": 4,
 "nbformat_minor": 5
}
