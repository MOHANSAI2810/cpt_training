{
 "cells": [
  {
   "cell_type": "code",
   "execution_count": 2,
   "id": "2b3aaed4-24c6-4c82-b202-b0b6b7b0210f",
   "metadata": {},
   "outputs": [
    {
     "name": "stdout",
     "output_type": "stream",
     "text": [
      "The value is 100\n"
     ]
    }
   ],
   "source": [
    "class abc():\n",
    "    def __init__(self,var):\n",
    "        self.__var=var\n",
    "    def __display(self):\n",
    "        print(\"The value is\",self.__var)\n",
    "ab=abc(100)\n",
    "ab._abc__display()"
   ]
  },
  {
   "cell_type": "code",
   "execution_count": 9,
   "id": "21bd3f6e-4078-4131-b5cd-53a35e499a39",
   "metadata": {},
   "outputs": [
    {
     "name": "stdout",
     "output_type": "stream",
     "text": [
      "The updated value is 15\n"
     ]
    }
   ],
   "source": [
    "class abc:\n",
    "    def __init__(self,var):\n",
    "        self.var=var\n",
    "    def display(self):\n",
    "        print(\"The updated value is\",self.var)\n",
    "    def add(self):\n",
    "        self.var+=5\n",
    "        self.display()\n",
    "ab=abc(10)\n",
    "ab.add()"
   ]
  },
  {
   "cell_type": "code",
   "execution_count": 33,
   "id": "986471ba-aac0-4985-b5a4-14edd7f2b783",
   "metadata": {},
   "outputs": [
    {
     "name": "stdout",
     "output_type": "stream",
     "text": [
      "44\n"
     ]
    }
   ],
   "source": [
    "def globe(a):\n",
    "    var=4+a\n",
    "    return var\n",
    "class abc:\n",
    "    def __init__(self,var):\n",
    "        self.var=var\n",
    "    def display(self):\n",
    "        a=globe(self.var)\n",
    "        print(a)\n",
    "obj=abc(40)\n",
    "obj.display()"
   ]
  },
  {
   "cell_type": "code",
   "execution_count": 61,
   "id": "642f6923-715a-4935-a6f6-159771ac24d4",
   "metadata": {},
   "outputs": [
    {
     "name": "stdout",
     "output_type": "stream",
     "text": [
      "The value is 2\n",
      "The obj has attribute var is True\n",
      "the updated value is 5\n",
      "5\n",
      "'abc' object has no attribute 'var'\n"
     ]
    }
   ],
   "source": [
    "class abc:\n",
    "    def __init__(self,var):\n",
    "        self.var=var\n",
    "    def print(self):\n",
    "        print(\"The value is\",self.var)\n",
    "ab=abc(2)\n",
    "ab.print()\n",
    "print(\"The obj has attribute var is\",hasattr(ab,'var'))\n",
    "getattr(ab,'var')\n",
    "setattr(ab,'var',5)\n",
    "print(\"the updated value is\", ab.var)\n",
    "print(ab.var)\n",
    "try:\n",
    "    delattr(ab,'var')\n",
    "    print(ab.var)\n",
    "except Exception as e:\n",
    "    print(e)"
   ]
  },
  {
   "cell_type": "code",
   "execution_count": 73,
   "id": "29942d86-98d8-4efd-88c6-2f407cb9ab84",
   "metadata": {},
   "outputs": [
    {
     "name": "stdout",
     "output_type": "stream",
     "text": [
      "The values are 1 3\n",
      "None\n",
      "{'var1': 1, 'var2': 3}\n",
      "abc\n",
      "__main__\n"
     ]
    }
   ],
   "source": [
    "class abc():\n",
    "    def __init__(self,var1,var2):\n",
    "        self.var1=var1\n",
    "        self.var2=var2\n",
    "    def display(self):\n",
    "        print(\"The values are\", self.var1,self.var2)\n",
    "ab=abc(1,3)\n",
    "ab.display()\n",
    "print(ab.__doc__)\n",
    "print(ab.__dict__)\n",
    "print(abc.__name__)\n",
    "print(abc.__module__)"
   ]
  },
  {
   "cell_type": "code",
   "execution_count": 77,
   "id": "957be85e-59d2-48dd-874c-1003722b140f",
   "metadata": {},
   "outputs": [
    {
     "name": "stdout",
     "output_type": "stream",
     "text": [
      "Fast implementation of the datetime type.\n"
     ]
    }
   ],
   "source": [
    "import datetime as random\n",
    "print(random.__doc__)"
   ]
  },
  {
   "cell_type": "code",
   "execution_count": 119,
   "id": "2595c37d-6adf-448d-828c-b683dd5d4c6b",
   "metadata": {},
   "outputs": [
    {
     "name": "stdin",
     "output_type": "stream",
     "text": [
      "enter the subject name and marks seperated by space: python 100\n",
      "enter the subject name and marks seperated by space: c 49\n",
      "enter the subject name and marks seperated by space: js 66\n"
     ]
    },
    {
     "name": "stdout",
     "output_type": "stream",
     "text": [
      "The marks of vijay is {'python': '100', 'c': '49', 'js': '66'}\n"
     ]
    }
   ],
   "source": [
    "class student:\n",
    "    d={}\n",
    "    def __init__(self,name):\n",
    "        self.name=name\n",
    "        self.lst=[]\n",
    "\n",
    "    def cal(self):\n",
    "        for i in range(3):\n",
    "            # n=int(input(f\"Enter the marks of {self.name} \"))\n",
    "            info=input(\"enter the subject name and marks seperated by space:\").split()\n",
    "            name=info[0]\n",
    "            marks=info[1]\n",
    "            student.d[name]=marks\n",
    "            \n",
    "    def display(self):\n",
    "        print(\"The marks of\",self.name,\"is\",student.d)\n",
    "obj=student('vijay')\n",
    "obj.cal()\n",
    "obj.display()"
   ]
  },
  {
   "cell_type": "code",
   "execution_count": 135,
   "id": "b4c0670f-7c38-48b0-9c84-df5ea79dc3df",
   "metadata": {},
   "outputs": [
    {
     "name": "stdout",
     "output_type": "stream",
     "text": [
      "The area of circle is 176.1519375 and the circumference is 46.97385\n"
     ]
    }
   ],
   "source": [
    "class circle:\n",
    "    pi=3.13159\n",
    "    def __init__(self,radius):\n",
    "        self.radius=radius\n",
    "    def cal(self,radius):\n",
    "        self.radius=radius\n",
    "        self.area=circle.pi*radius*radius\n",
    "        self.circum=2*circle.pi*radius\n",
    "        print(f\"The area of circle is {self.area} and the circumference is {self.circum}\")\n",
    "obj=circle(7.5)\n",
    "obj.cal(7.5)"
   ]
  },
  {
   "cell_type": "code",
   "execution_count": null,
   "id": "758c14fd-3fb0-478c-b133-efcb44e55787",
   "metadata": {},
   "outputs": [],
   "source": []
  }
 ],
 "metadata": {
  "kernelspec": {
   "display_name": "Python 3 (ipykernel)",
   "language": "python",
   "name": "python3"
  },
  "language_info": {
   "codemirror_mode": {
    "name": "ipython",
    "version": 3
   },
   "file_extension": ".py",
   "mimetype": "text/x-python",
   "name": "python",
   "nbconvert_exporter": "python",
   "pygments_lexer": "ipython3",
   "version": "3.12.7"
  }
 },
 "nbformat": 4,
 "nbformat_minor": 5
}
