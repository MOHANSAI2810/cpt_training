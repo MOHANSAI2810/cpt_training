{
 "cells": [
  {
   "cell_type": "code",
   "execution_count": 5,
   "id": "907c729f-60af-4999-a01d-ccc53bf85752",
   "metadata": {},
   "outputs": [
    {
     "name": "stdout",
     "output_type": "stream",
     "text": [
      "Base class 2\n",
      "Base class 1\n",
      "Derived class\n"
     ]
    }
   ],
   "source": [
    "class base1:\n",
    "    def __init__(self):\n",
    "        super(base1,self).__init__()\n",
    "        print(\"Base class 1\")\n",
    "class base2:\n",
    "    def __init__(self):\n",
    "        super(base2,self).__init__()\n",
    "        print(\"Base class 2\")\n",
    "class derived(base1,base2):\n",
    "    def __init__(self):\n",
    "        super(derived,self).__init__()\n",
    "        print(\"Derived class\")\n",
    "d=derived()"
   ]
  },
  {
   "cell_type": "code",
   "execution_count": 73,
   "id": "4f4af71a-5249-4557-873d-b44c71a0dc8f",
   "metadata": {},
   "outputs": [
    {
     "name": "stdin",
     "output_type": "stream",
     "text": [
      "Enter first value 6\n",
      "Enter second value 9\n"
     ]
    },
    {
     "name": "stdout",
     "output_type": "stream",
     "text": [
      "Add - 1, SUb - 2, mul- 3, div- 4\n"
     ]
    },
    {
     "name": "stdin",
     "output_type": "stream",
     "text": [
      "please select any above value 2\n"
     ]
    },
    {
     "name": "stdout",
     "output_type": "stream",
     "text": [
      "-3\n"
     ]
    }
   ],
   "source": [
    "class add:\n",
    "    def __init__(self,a,b):\n",
    "        self.a=a\n",
    "        self.b=b\n",
    "    def add1(self):\n",
    "        print(self.a+self.b)\n",
    "class mul:\n",
    "    def __init__(self,a,b):\n",
    "        self.a=a\n",
    "        self.b=b\n",
    "    def mul1(self):\n",
    "        print(self.a*self.b)\n",
    "class sub:\n",
    "    def __init__(self,a,b):\n",
    "        self.a=a\n",
    "        self.b=b\n",
    "    def sub1(self):\n",
    "        print(self.a-self.b)\n",
    "class div:\n",
    "    def __init__(self,a,b):\n",
    "        self.a=a\n",
    "        self.b=b\n",
    "    def div1(self):\n",
    "        print(self.a/self.b)\n",
    "class calc(add, mul,sub,div):\n",
    "    def __init__(self,a,b):\n",
    "        super().__init__(a,b)\n",
    "    def cal(self):\n",
    "        print(\"Add - 1, SUb - 2, mul- 3, div- 4\")\n",
    "        choice=int(input(\"please select any above value\"))\n",
    "        if choice==1:\n",
    "            super().add1()\n",
    "        if choice==3:\n",
    "            super().mul1()\n",
    "        if choice==2:\n",
    "            super().sub1()\n",
    "        if choice==4:\n",
    "            super().div1()\n",
    "a=int(input(\"Enter first value\"))\n",
    "b=int(input(\"Enter second value\"))\n",
    "obj=calc(a,b)\n",
    "obj.cal()        "
   ]
  },
  {
   "cell_type": "code",
   "execution_count": 43,
   "id": "57e2cd07-9a8c-4530-9d72-2c44d98688c3",
   "metadata": {},
   "outputs": [
    {
     "name": "stdout",
     "output_type": "stream",
     "text": [
      "4 8\n",
      "12\n"
     ]
    }
   ],
   "source": [
    "class square:\n",
    "    def __init__(self,a):\n",
    "        self.a=a\n",
    "    def display1(self):\n",
    "        return self.a*self.a\n",
    "class cube:\n",
    "    def __init__(self,a):\n",
    "        self.a=a\n",
    "    def display2(self):\n",
    "        return self.a*self.a*self.a\n",
    "class derived(square,cube):\n",
    "    def __init__(self,a):\n",
    "        super().__init__(a)\n",
    "    def display(self):\n",
    "        a=super().display1()\n",
    "        b=super().display2()\n",
    "        print(a,b)\n",
    "        print(a+b)\n",
    "obj=derived(2)\n",
    "obj.display()\n",
    "        "
   ]
  },
  {
   "cell_type": "code",
   "execution_count": 51,
   "id": "af089b29-87e0-4bdc-b276-06ded9832a1b",
   "metadata": {},
   "outputs": [
    {
     "name": "stdout",
     "output_type": "stream",
     "text": [
      "c\n",
      "a\n",
      "b\n"
     ]
    }
   ],
   "source": [
    "class a:\n",
    "    def d(self):\n",
    "        print(\"a\")\n",
    "class b(a):\n",
    "    def di(self):\n",
    "        print(\"b\")\n",
    "class c(b):\n",
    "    def display(self):\n",
    "        print(\"c\")\n",
    "obj=c()\n",
    "obj.display()\n",
    "obj.d()\n",
    "obj.di()"
   ]
  },
  {
   "cell_type": "code",
   "execution_count": 71,
   "id": "663b822c-2c2b-4e03-8e32-2a993ba0c638",
   "metadata": {},
   "outputs": [
    {
     "data": {
      "text/plain": [
       "125"
      ]
     },
     "execution_count": 71,
     "metadata": {},
     "output_type": "execute_result"
    }
   ],
   "source": [
    "class num:\n",
    "    def __init__(self,a):\n",
    "        self.a=a\n",
    "class sq(num):\n",
    "    def sq1(self):\n",
    "        return self.a**2\n",
    "class cu(sq):\n",
    "    def cu1(self):\n",
    "        return self.a**3\n",
    "obj=cu(5)\n",
    "obj.sq1()\n",
    "obj.cu1()"
   ]
  },
  {
   "cell_type": "code",
   "execution_count": 5,
   "id": "7b6617fc-69f1-4448-9200-d8a8f65b98a8",
   "metadata": {},
   "outputs": [
    {
     "name": "stdout",
     "output_type": "stream",
     "text": [
      "sweet A green\n",
      "sour C orange\n"
     ]
    }
   ],
   "source": [
    "class fruit:\n",
    "    def taste(self):  # Add 'self' parameter\n",
    "        raise NotImplementedError()\n",
    "    \n",
    "    def vitamin(self):  # Add 'self' parameter\n",
    "        raise NotImplementedError()\n",
    "    \n",
    "    def color(self):  # Add 'self' parameter\n",
    "        raise NotImplementedError()\n",
    "\n",
    "class mango(fruit):\n",
    "    def taste(self):  # Add 'self' parameter\n",
    "        return \"sweet\"\n",
    "    \n",
    "    def vitamin(self):  # Add 'self' parameter\n",
    "        return \"A\"\n",
    "    \n",
    "    def color(self):  # Add 'self' parameter\n",
    "        return \"green\"\n",
    "\n",
    "class orange(fruit):\n",
    "    def taste(self):  # Add 'self' parameter\n",
    "        return \"sour\"\n",
    "    \n",
    "    def vitamin(self):  # Add 'self' parameter\n",
    "        return \"C\"\n",
    "    \n",
    "    def color(self):  # Add 'self' parameter\n",
    "        return \"orange\"\n",
    "\n",
    "# Create objects of mango and orange\n",
    "obj = mango()\n",
    "print(obj.taste(), obj.vitamin(), obj.color())  # Output: sweet A green\n",
    "\n",
    "obj1 = orange()\n",
    "print(obj1.taste(), obj1.vitamin(), obj1.color())  # Output: sour C orange\n"
   ]
  },
  {
   "cell_type": "code",
   "execution_count": null,
   "id": "05e29b80-84d8-40d8-97b7-2e8c1b46e13d",
   "metadata": {},
   "outputs": [],
   "source": []
  }
 ],
 "metadata": {
  "kernelspec": {
   "display_name": "Python 3 (ipykernel)",
   "language": "python",
   "name": "python3"
  },
  "language_info": {
   "codemirror_mode": {
    "name": "ipython",
    "version": 3
   },
   "file_extension": ".py",
   "mimetype": "text/x-python",
   "name": "python",
   "nbconvert_exporter": "python",
   "pygments_lexer": "ipython3",
   "version": "3.12.7"
  }
 },
 "nbformat": 4,
 "nbformat_minor": 5
}
