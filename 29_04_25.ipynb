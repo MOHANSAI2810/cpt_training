{
 "cells": [
  {
   "cell_type": "code",
   "execution_count": 31,
   "id": "8d36dec6-c7d9-40e0-aff9-375a75f2b71e",
   "metadata": {},
   "outputs": [
    {
     "name": "stdout",
     "output_type": "stream",
     "text": [
      "10\n",
      "Hi hello\n"
     ]
    }
   ],
   "source": [
    "class abc:\n",
    "    var=10\n",
    "    def display(self):\n",
    "        print(\"Hi hello\")\n",
    "obj=abc()\n",
    "print(obj.var)\n",
    "obj.display()"
   ]
  },
  {
   "cell_type": "code",
   "execution_count": 37,
   "id": "1270fc23-5216-46f7-8a7a-9e6a0b1d2a6d",
   "metadata": {},
   "outputs": [
    {
     "name": "stdout",
     "output_type": "stream",
     "text": [
      "The outside value is 10\n",
      "The inside value is 21\n",
      "The outside value is 30\n",
      "The inside value is 22\n"
     ]
    }
   ],
   "source": [
    "class abc:\n",
    "    var=20\n",
    "    def __init__(self,val):\n",
    "        self.val=val\n",
    "        abc.var+=1\n",
    "        print(\"The outside value is\",val)\n",
    "        print(\"The inside value is\",abc.var)\n",
    "obj=abc(10)\n",
    "obj=abc(30)"
   ]
  },
  {
   "cell_type": "code",
   "execution_count": 53,
   "id": "0bff430b-47ba-4f97-9a5d-7519c7c16e1c",
   "metadata": {},
   "outputs": [
    {
     "name": "stdout",
     "output_type": "stream",
     "text": [
      "The number 9 is odd\n"
     ]
    }
   ],
   "source": [
    "class evenodd:\n",
    "    a=0\n",
    "    def check(self,num):\n",
    "        self.num=num\n",
    "        if num%2==0:\n",
    "            evenodd.a=1\n",
    "    def iseven(self):\n",
    "        if evenodd.a==1:\n",
    "            return f\"The number {self.num} is even\"\n",
    "        else:\n",
    "            return f\"The number {self.num} is odd\" \n",
    "obj=evenodd()\n",
    "obj.check(9)\n",
    "print(obj.iseven())"
   ]
  },
  {
   "cell_type": "code",
   "execution_count": 73,
   "id": "c8fa20e2-1a03-4804-8b02-9f7024194f5c",
   "metadata": {},
   "outputs": [
    {
     "name": "stdout",
     "output_type": "stream",
     "text": [
      "The even list is []\n",
      "The odd list is []\n"
     ]
    }
   ],
   "source": [
    "class evenodd:\n",
    "    even=[]\n",
    "    odd=[]\n",
    "    def check(self,val):\n",
    "        self.val=val\n",
    "obj=evenodd()\n",
    "obj.check(21)\n",
    "obj.check(32)\n",
    "obj.check(43)\n",
    "obj.check(54)\n",
    "obj.check(65)\n",
    "print(\"The even list is\",obj.even)\n",
    "print(\"The odd list is\",obj.odd)"
   ]
  },
  {
   "cell_type": "code",
   "execution_count": 95,
   "id": "ce52836d-991c-4579-b883-a593a5722fae",
   "metadata": {},
   "outputs": [
    {
     "name": "stdout",
     "output_type": "stream",
     "text": [
      "Object created with value: 11\n",
      "Object created with value: 12\n",
      "Object created with value: 13\n",
      "Object with value 11 is going out of scope\n",
      "Object with value 12 is going out of scope\n",
      "Object with value 13 is going out of scope\n",
      "Number of objects currently in scope: 0\n"
     ]
    }
   ],
   "source": [
    "class EvenOdd:\n",
    "    cv = 0  \n",
    "    \n",
    "    def __init__(self, val):\n",
    "        self.check(val)\n",
    "        \n",
    "    def check(self, val):\n",
    "        self.val = val\n",
    "        EvenOdd.cv += 1\n",
    "        print(f\"Object created with value: {self.val}\")\n",
    "        \n",
    "    def __del__(self):\n",
    "        EvenOdd.cv -= 1\n",
    "        print(f\"Object with value {self.val} is going out of scope\")\n",
    "        \n",
    "# Creating objects\n",
    "obj1 = EvenOdd(11)\n",
    "obj2 = EvenOdd(12)\n",
    "obj3 = EvenOdd(13)\n",
    "\n",
    "# Deleting objects\n",
    "del obj1\n",
    "del obj2\n",
    "del obj3\n",
    "\n",
    "# Checking class variable cv after deletion\n",
    "print(\"Number of objects currently in scope:\", EvenOdd.cv)\n"
   ]
  },
  {
   "cell_type": "code",
   "execution_count": 107,
   "id": "02d87978-23cc-4795-b63a-66aa76768cdc",
   "metadata": {},
   "outputs": [
    {
     "name": "stdout",
     "output_type": "stream",
     "text": [
      "1\n",
      "6\n",
      "Second value is less\n"
     ]
    }
   ],
   "source": [
    "class abc:\n",
    "    def __init__(self,name,val):\n",
    "        self.name=name\n",
    "        self.val=val\n",
    "    def ir(self):\n",
    "        return repr(self.val)\n",
    "    def __len__(self):\n",
    "        return len(self.name)\n",
    "    def __cmp__(self,obj):\n",
    "        return self.val-obj.val\n",
    "obj=abc(\"hibnik\",1)\n",
    "print(obj.ir())\n",
    "print(len(obj))\n",
    "obj1=abc(\"sdcx\",5)\n",
    "val=obj.__cmp__(obj1)\n",
    "if val==0:\n",
    "    print(\"Both are same\")\n",
    "elif val==-1:\n",
    "    print(\"First value is less\")\n",
    "else:\n",
    "    print(\"Second value is less\")"
   ]
  },
  {
   "cell_type": "code",
   "execution_count": null,
   "id": "56205e73-d949-4f49-a682-5fa2ff159278",
   "metadata": {},
   "outputs": [],
   "source": [
    "1. __call__()--instance can be directly called\n",
    "2. __lt__(), __le__(), __gt__(),__ge__(),__eq__(),__ne__()\n",
    "3. __hash__()--decide obj/set/dict\n",
    "4. __iter__()\n",
    "5. __getitem__(),__setitem__()"
   ]
  },
  {
   "cell_type": "code",
   "execution_count": 109,
   "id": "4df90e12-d1f2-4245-a52d-d0c1e03889bd",
   "metadata": {},
   "outputs": [
    {
     "name": "stdout",
     "output_type": "stream",
     "text": [
      "<__main__.numbers object at 0x000001C4957B0740>\n",
      "[1, 2, 3, 10, 5, 6, 7, 8, 9]\n"
     ]
    }
   ],
   "source": [
    "class numbers:\n",
    "    def __init__(self,mylist):\n",
    "        self.mylist=mylist\n",
    "    def __getitem__(self,index):\n",
    "        return self.mylist[index]\n",
    "    def __setitem__(self,index,val):\n",
    "        self.mylist[index]=val\n",
    "numlist=numbers([1,2,3,4,5,6,7,8,9])\n",
    "print(numlist)\n",
    "numlist[3]=10\n",
    "print(numlist.mylist)"
   ]
  },
  {
   "cell_type": "code",
   "execution_count": null,
   "id": "3bbbbdda-d9e1-472c-be24-2a7621028350",
   "metadata": {},
   "outputs": [],
   "source": []
  }
 ],
 "metadata": {
  "kernelspec": {
   "display_name": "Python 3 (ipykernel)",
   "language": "python",
   "name": "python3"
  },
  "language_info": {
   "codemirror_mode": {
    "name": "ipython",
    "version": 3
   },
   "file_extension": ".py",
   "mimetype": "text/x-python",
   "name": "python",
   "nbconvert_exporter": "python",
   "pygments_lexer": "ipython3",
   "version": "3.12.7"
  }
 },
 "nbformat": 4,
 "nbformat_minor": 5
}
